{
 "cells": [
  {
   "cell_type": "code",
   "execution_count": 76,
   "id": "b59b4492",
   "metadata": {},
   "outputs": [],
   "source": [
    "import numpy as np\n",
    "import pydot\n",
    "import graphviz\n",
    "from tensorflow.keras.applications.efficientnet import EfficientNetB0\n",
    "from tensorflow.keras.preprocessing import image\n",
    "from tensorflow.keras.utils import plot_model\n",
    "from tensorflow.keras.models import Model\n",
    "from tensorflow.keras.layers import AveragePooling2D, GlobalAveragePooling2D, Dense, Input\n",
    "from tensorflow.keras.layers import Embedding, LSTM, Add"
   ]
  },
  {
   "cell_type": "code",
   "execution_count": 72,
   "id": "3810011f",
   "metadata": {},
   "outputs": [
    {
     "name": "stdout",
     "output_type": "stream",
     "text": [
      "Collecting pydot\n",
      "  Downloading pydot-1.4.2-py2.py3-none-any.whl (21 kB)\n",
      "Requirement already satisfied: pyparsing>=2.1.4 in /Users/theebak/.pyenv/versions/3.8.12/envs/robo_romeo/lib/python3.8/site-packages (from pydot) (3.0.9)\n",
      "Installing collected packages: pydot\n",
      "Successfully installed pydot-1.4.2\n"
     ]
    }
   ],
   "source": [
    "!pip install pydot"
   ]
  },
  {
   "cell_type": "code",
   "execution_count": 73,
   "id": "25b59b3c",
   "metadata": {},
   "outputs": [
    {
     "name": "stdout",
     "output_type": "stream",
     "text": [
      "Collecting graphviz\n",
      "  Using cached graphviz-0.20-py3-none-any.whl (46 kB)\n",
      "Installing collected packages: graphviz\n",
      "Successfully installed graphviz-0.20\n"
     ]
    }
   ],
   "source": [
    "!pip install graphviz"
   ]
  },
  {
   "cell_type": "markdown",
   "id": "2f8917ef",
   "metadata": {},
   "source": [
    "## Build CNN model with Pooling and Dense layers"
   ]
  },
  {
   "cell_type": "markdown",
   "id": "80a879ca",
   "metadata": {
    "heading_collapsed": true
   },
   "source": [
    "### Test on one image"
   ]
  },
  {
   "cell_type": "code",
   "execution_count": 45,
   "id": "f3016ca9",
   "metadata": {
    "hidden": true
   },
   "outputs": [],
   "source": [
    "img_path = '../raw_data/images/10815824_2997e03d76.jpg'"
   ]
  },
  {
   "cell_type": "code",
   "execution_count": 46,
   "id": "1334a4cb",
   "metadata": {
    "hidden": true
   },
   "outputs": [],
   "source": [
    "img = image.load_img(img_path, target_size=(256,256,3))\n",
    "x = image.img_to_array(img)"
   ]
  },
  {
   "cell_type": "code",
   "execution_count": 47,
   "id": "ee036de7",
   "metadata": {
    "hidden": true
   },
   "outputs": [
    {
     "data": {
      "text/plain": [
       "(1, 256, 256, 3)"
      ]
     },
     "execution_count": 47,
     "metadata": {},
     "output_type": "execute_result"
    }
   ],
   "source": [
    "x = np.expand_dims(x, axis=0)\n",
    "x.shape"
   ]
  },
  {
   "cell_type": "markdown",
   "id": "5aa52a44",
   "metadata": {},
   "source": [
    "### CNN Model layers"
   ]
  },
  {
   "cell_type": "code",
   "execution_count": 37,
   "id": "4e652267",
   "metadata": {},
   "outputs": [],
   "source": [
    "inputs1 = Input(shape=(256,256,3))"
   ]
  },
  {
   "cell_type": "code",
   "execution_count": 38,
   "id": "c1ecf7bd",
   "metadata": {},
   "outputs": [],
   "source": [
    "CNN_model = EfficientNetB0(\n",
    "    include_top=False, # Whether to include the fully-connected layer at the top of the network\n",
    "    weights='imagenet', # pre-trained weights on ImageNet\n",
    "    input_tensor=None,\n",
    "    input_shape= (256,256,3), # It should have exactly 3 inputs channels\n",
    "    pooling=None # Optional pooling mode for feature extraction when include_top is False\n",
    ")(inputs1)"
   ]
  },
  {
   "cell_type": "code",
   "execution_count": 63,
   "id": "108acba5",
   "metadata": {},
   "outputs": [],
   "source": [
    "pooling = GlobalAveragePooling2D()(CNN_model)\n",
    "cnn_dense = Dense(256, activation='relu')(pooling)\n",
    "model1 = Model(inputs=inputs1, outputs=cnn_dense)"
   ]
  },
  {
   "cell_type": "code",
   "execution_count": 64,
   "id": "3aaa1a5c",
   "metadata": {},
   "outputs": [
    {
     "name": "stdout",
     "output_type": "stream",
     "text": [
      "Model: \"model_4\"\n",
      "_________________________________________________________________\n",
      " Layer (type)                Output Shape              Param #   \n",
      "=================================================================\n",
      " input_6 (InputLayer)        [(None, 256, 256, 3)]     0         \n",
      "                                                                 \n",
      " efficientnetb0 (Functional)  (None, 8, 8, 1280)       4049571   \n",
      "                                                                 \n",
      " global_average_pooling2d_5   (None, 1280)             0         \n",
      " (GlobalAveragePooling2D)                                        \n",
      "                                                                 \n",
      " dense_4 (Dense)             (None, 256)               327936    \n",
      "                                                                 \n",
      "=================================================================\n",
      "Total params: 4,377,507\n",
      "Trainable params: 4,335,484\n",
      "Non-trainable params: 42,023\n",
      "_________________________________________________________________\n"
     ]
    }
   ],
   "source": [
    "model1.summary()"
   ]
  },
  {
   "cell_type": "markdown",
   "id": "63150b20",
   "metadata": {},
   "source": [
    "## Combine with LSTM sequence model"
   ]
  },
  {
   "cell_type": "markdown",
   "id": "b54149cd",
   "metadata": {},
   "source": [
    "### LSTM Model layers"
   ]
  },
  {
   "cell_type": "code",
   "execution_count": 55,
   "id": "a1956542",
   "metadata": {},
   "outputs": [],
   "source": [
    "max_caption_length = 32+1\n",
    "vocab_size = 8763+2"
   ]
  },
  {
   "cell_type": "code",
   "execution_count": 59,
   "id": "54f746fe",
   "metadata": {},
   "outputs": [],
   "source": [
    "inputs2 = Input(shape=(max_caption_length,))\n",
    "embed_layer = Embedding(vocab_size, 256, mask_zero=True)(inputs2)\n",
    "lstm_layer = LSTM(256)(embed_layer)"
   ]
  },
  {
   "cell_type": "markdown",
   "id": "c514f0d2",
   "metadata": {},
   "source": [
    "### Combine CNN and LSTM"
   ]
  },
  {
   "cell_type": "code",
   "execution_count": 78,
   "id": "bbd56246",
   "metadata": {},
   "outputs": [],
   "source": [
    "decoder1 = Add()([cnn_dense,lstm_layer])\n",
    "decoder2 = Dense(256, activation='relu')(decoder1)\n",
    "outputs = Dense(vocab_size, activation='softmax')(decoder2)"
   ]
  },
  {
   "cell_type": "markdown",
   "id": "746a22a5",
   "metadata": {},
   "source": [
    "### Model summary"
   ]
  },
  {
   "cell_type": "code",
   "execution_count": 79,
   "id": "5178432b",
   "metadata": {},
   "outputs": [],
   "source": [
    "model = Model(inputs=[inputs1, inputs2], outputs=outputs)\n",
    "model.compile(loss='categorical_crossentropy', optimizer='adam')"
   ]
  },
  {
   "cell_type": "code",
   "execution_count": 83,
   "id": "d4f6cac7",
   "metadata": {},
   "outputs": [
    {
     "name": "stdout",
     "output_type": "stream",
     "text": [
      "Model: \"model_6\"\n",
      "__________________________________________________________________________________________________\n",
      " Layer (type)                   Output Shape         Param #     Connected to                     \n",
      "==================================================================================================\n",
      " input_6 (InputLayer)           [(None, 256, 256, 3  0           []                               \n",
      "                                )]                                                                \n",
      "                                                                                                  \n",
      " efficientnetb0 (Functional)    (None, 8, 8, 1280)   4049571     ['input_6[0][0]']                \n",
      "                                                                                                  \n",
      " input_9 (InputLayer)           [(None, 34)]         0           []                               \n",
      "                                                                                                  \n",
      " global_average_pooling2d_5 (Gl  (None, 1280)        0           ['efficientnetb0[0][0]']         \n",
      " obalAveragePooling2D)                                                                            \n",
      "                                                                                                  \n",
      " embedding (Embedding)          (None, 34, 256)      2243840     ['input_9[0][0]']                \n",
      "                                                                                                  \n",
      " dense_4 (Dense)                (None, 256)          327936      ['global_average_pooling2d_5[0][0\n",
      "                                                                 ]']                              \n",
      "                                                                                                  \n",
      " lstm (LSTM)                    (None, 256)          525312      ['embedding[0][0]']              \n",
      "                                                                                                  \n",
      " add_1 (Add)                    (None, 256)          0           ['dense_4[0][0]',                \n",
      "                                                                  'lstm[0][0]']                   \n",
      "                                                                                                  \n",
      " dense_7 (Dense)                (None, 256)          65792       ['add_1[0][0]']                  \n",
      "                                                                                                  \n",
      " dense_8 (Dense)                (None, 8765)         2252605     ['dense_7[0][0]']                \n",
      "                                                                                                  \n",
      "==================================================================================================\n",
      "Total params: 9,465,056\n",
      "Trainable params: 9,423,033\n",
      "Non-trainable params: 42,023\n",
      "__________________________________________________________________________________________________\n"
     ]
    }
   ],
   "source": [
    "model.summary()"
   ]
  },
  {
   "cell_type": "code",
   "execution_count": 82,
   "id": "09c889f5",
   "metadata": {},
   "outputs": [
    {
     "name": "stdout",
     "output_type": "stream",
     "text": [
      "You must install pydot (`pip install pydot`) and install graphviz (see instructions at https://graphviz.gitlab.io/download/) for plot_model/model_to_dot to work.\n"
     ]
    }
   ],
   "source": [
    "plot_model(model,show_shapes=True)"
   ]
  }
 ],
 "metadata": {
  "kernelspec": {
   "display_name": "Python 3 (ipykernel)",
   "language": "python",
   "name": "python3"
  },
  "language_info": {
   "codemirror_mode": {
    "name": "ipython",
    "version": 3
   },
   "file_extension": ".py",
   "mimetype": "text/x-python",
   "name": "python",
   "nbconvert_exporter": "python",
   "pygments_lexer": "ipython3",
   "version": "3.8.12"
  },
  "toc": {
   "base_numbering": 1,
   "nav_menu": {},
   "number_sections": true,
   "sideBar": true,
   "skip_h1_title": false,
   "title_cell": "Table of Contents",
   "title_sidebar": "Contents",
   "toc_cell": false,
   "toc_position": {},
   "toc_section_display": true,
   "toc_window_display": false
  }
 },
 "nbformat": 4,
 "nbformat_minor": 5
}
