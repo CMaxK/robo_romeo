{
 "cells": [
  {
   "cell_type": "code",
   "execution_count": 88,
   "id": "87c0bf49",
   "metadata": {},
   "outputs": [],
   "source": [
    "import pickle\n",
    "import numpy as np"
   ]
  },
  {
   "cell_type": "markdown",
   "id": "b31a623f",
   "metadata": {},
   "source": [
    "# Datasets for LSTM input"
   ]
  },
  {
   "cell_type": "markdown",
   "id": "46445c24",
   "metadata": {},
   "source": [
    "## Load data for X1"
   ]
  },
  {
   "cell_type": "markdown",
   "id": "64cfa923",
   "metadata": {},
   "source": [
    "Import features file"
   ]
  },
  {
   "cell_type": "code",
   "execution_count": 89,
   "id": "7052996d",
   "metadata": {},
   "outputs": [],
   "source": [
    "features_file = '../extracted_features/extract_features_6k.pkl'"
   ]
  },
  {
   "cell_type": "markdown",
   "id": "8443bcea",
   "metadata": {},
   "source": [
    "Load from data from pickle file"
   ]
  },
  {
   "cell_type": "code",
   "execution_count": 90,
   "id": "efb33e06",
   "metadata": {},
   "outputs": [],
   "source": [
    "file = open(features_file, 'rb')\n",
    "features_dict = pickle.load(file)\n",
    "file.close()"
   ]
  },
  {
   "cell_type": "code",
   "execution_count": 112,
<<<<<<< HEAD
   "id": "417ef395",
=======
   "id": "696b4ba6",
>>>>>>> 3429852eb1e0c76a4214cf5a75b70420b228113f
   "metadata": {},
   "outputs": [
    {
     "data": {
      "text/plain": [
       "256"
      ]
     },
     "execution_count": 112,
     "metadata": {},
     "output_type": "execute_result"
    }
   ],
   "source": [
    "len(features_dict['2513260012_03d33305cf'][0])"
   ]
  },
  {
   "cell_type": "markdown",
   "id": "cf40111a",
   "metadata": {},
   "source": [
    "## Create X1_train in same sequence as X2 captions"
   ]
  },
  {
   "cell_type": "markdown",
   "id": "4cdd21e0",
   "metadata": {},
   "source": [
    "Import captions data"
   ]
  },
  {
   "cell_type": "code",
<<<<<<< HEAD
   "execution_count": 130,
=======
   "execution_count": 115,
>>>>>>> 3429852eb1e0c76a4214cf5a75b70420b228113f
   "id": "6cd6c419",
   "metadata": {},
   "outputs": [],
   "source": [
<<<<<<< HEAD
    "captions_file = '../raw_data/captions/cap3'"
=======
    "captions_file = '../raw_data/captions/cap2'"
>>>>>>> 3429852eb1e0c76a4214cf5a75b70420b228113f
   ]
  },
  {
   "cell_type": "code",
<<<<<<< HEAD
   "execution_count": 131,
=======
   "execution_count": 116,
>>>>>>> 3429852eb1e0c76a4214cf5a75b70420b228113f
   "id": "882868a6",
   "metadata": {},
   "outputs": [],
   "source": [
    "file = open(captions_file, 'rb')\n",
    "x2_captions = pickle.load(file)\n",
    "file.close()"
   ]
  },
  {
   "cell_type": "code",
<<<<<<< HEAD
   "execution_count": 132,
   "id": "6e63dd07",
=======
   "execution_count": 117,
   "id": "462ad14e",
>>>>>>> 3429852eb1e0c76a4214cf5a75b70420b228113f
   "metadata": {},
   "outputs": [
    {
     "data": {
      "text/plain": [
       "'1000268201_693b08cb0e'"
      ]
     },
<<<<<<< HEAD
     "execution_count": 132,
=======
     "execution_count": 117,
>>>>>>> 3429852eb1e0c76a4214cf5a75b70420b228113f
     "metadata": {},
     "output_type": "execute_result"
    }
   ],
   "source": [
    "cap_img_list = x2_captions[0] # first column with list of repeated image id's\n",
    "cap_img_list[0]"
   ]
  },
  {
   "cell_type": "markdown",
<<<<<<< HEAD
   "id": "dfebc326",
=======
   "id": "3ebb6cb5",
>>>>>>> 3429852eb1e0c76a4214cf5a75b70420b228113f
   "metadata": {},
   "source": [
    "Create X1_train"
   ]
  },
  {
   "cell_type": "code",
<<<<<<< HEAD
   "execution_count": 133,
=======
   "execution_count": 118,
>>>>>>> 3429852eb1e0c76a4214cf5a75b70420b228113f
   "id": "f0c3cddc",
   "metadata": {},
   "outputs": [
    {
     "data": {
      "text/plain": [
       "(306404, 256)"
      ]
     },
<<<<<<< HEAD
     "execution_count": 133,
=======
     "execution_count": 118,
>>>>>>> 3429852eb1e0c76a4214cf5a75b70420b228113f
     "metadata": {},
     "output_type": "execute_result"
    }
   ],
   "source": [
    "X1_train = []\n",
    "for cap_img in cap_img_list:\n",
    "    img_feature_matrix = features_dict[cap_img][0]\n",
    "    X1_train.append(img_feature_matrix)\n",
    "X1_train = np.array(X1_train)\n",
    "X1_train.shape"
   ]
  },
  {
   "cell_type": "markdown",
   "id": "28db7cf6",
   "metadata": {},
   "source": [
    "## Create X2_train"
   ]
  },
  {
   "cell_type": "code",
<<<<<<< HEAD
   "execution_count": 136,
=======
   "execution_count": 119,
>>>>>>> 3429852eb1e0c76a4214cf5a75b70420b228113f
   "id": "b104cc9f",
   "metadata": {},
   "outputs": [
    {
<<<<<<< HEAD
     "data": {
      "text/plain": [
       "(306404, 33)"
      ]
     },
     "execution_count": 136,
=======
     "name": "stderr",
     "output_type": "stream",
     "text": [
      "/var/folders/tw/_zhlxthd7c31pn2_v_8xnv3m0000gn/T/ipykernel_23898/1287423446.py:1: VisibleDeprecationWarning: Creating an ndarray from ragged nested sequences (which is a list-or-tuple of lists-or-tuples-or ndarrays with different lengths or shapes) is deprecated. If you meant to do this, you must specify 'dtype=object' when creating the ndarray.\n",
      "  X2_train = np.array(x2_captions[1])\n"
     ]
    },
    {
     "data": {
      "text/plain": [
       "(306404,)"
      ]
     },
     "execution_count": 119,
>>>>>>> 3429852eb1e0c76a4214cf5a75b70420b228113f
     "metadata": {},
     "output_type": "execute_result"
    }
   ],
   "source": [
    "X2_train = np.array(x2_captions[1])\n",
    "X2_train.shape"
   ]
  },
  {
<<<<<<< HEAD
   "cell_type": "code",
   "execution_count": 139,
   "id": "545c35eb",
   "metadata": {},
   "outputs": [
    {
     "data": {
      "text/plain": [
       "7577"
      ]
     },
     "execution_count": 139,
     "metadata": {},
     "output_type": "execute_result"
    }
   ],
   "source": [
    "X2_train.max()"
   ]
  },
  {
   "cell_type": "markdown",
   "id": "6ade9818",
=======
   "cell_type": "markdown",
   "id": "a08eb569",
>>>>>>> 3429852eb1e0c76a4214cf5a75b70420b228113f
   "metadata": {},
   "source": [
    "## Create y_train"
   ]
  },
  {
   "cell_type": "code",
<<<<<<< HEAD
   "execution_count": 137,
=======
   "execution_count": 120,
>>>>>>> 3429852eb1e0c76a4214cf5a75b70420b228113f
   "id": "5b4d7bb0",
   "metadata": {},
   "outputs": [
    {
     "name": "stderr",
     "output_type": "stream",
     "text": [
      "/var/folders/tw/_zhlxthd7c31pn2_v_8xnv3m0000gn/T/ipykernel_23898/3752022675.py:1: VisibleDeprecationWarning: Creating an ndarray from ragged nested sequences (which is a list-or-tuple of lists-or-tuples-or ndarrays with different lengths or shapes) is deprecated. If you meant to do this, you must specify 'dtype=object' when creating the ndarray.\n",
      "  y_train = np.array(x2_captions[2])\n"
     ]
    },
    {
     "data": {
      "text/plain": [
       "(306404,)"
      ]
     },
<<<<<<< HEAD
     "execution_count": 137,
=======
     "execution_count": 120,
>>>>>>> 3429852eb1e0c76a4214cf5a75b70420b228113f
     "metadata": {},
     "output_type": "execute_result"
    }
   ],
   "source": [
    "y_train = np.array(x2_captions[2])\n",
    "y_train.shape"
   ]
  },
  {
   "cell_type": "code",
<<<<<<< HEAD
   "execution_count": 141,
   "id": "9922abe6",
   "metadata": {},
   "outputs": [
    {
     "data": {
      "text/plain": [
       "(306404,)"
      ]
     },
     "execution_count": 141,
     "metadata": {},
     "output_type": "execute_result"
    }
   ],
   "source": [
    "y_train.shape"
   ]
  },
  {
   "cell_type": "code",
   "execution_count": null,
   "id": "5556ebda",
=======
   "execution_count": null,
   "id": "5bb7284d",
>>>>>>> 3429852eb1e0c76a4214cf5a75b70420b228113f
   "metadata": {},
   "outputs": [],
   "source": []
  }
 ],
 "metadata": {
  "kernelspec": {
   "display_name": "Python 3 (ipykernel)",
   "language": "python",
   "name": "python3"
  },
  "language_info": {
   "codemirror_mode": {
    "name": "ipython",
    "version": 3
   },
   "file_extension": ".py",
   "mimetype": "text/x-python",
   "name": "python",
   "nbconvert_exporter": "python",
   "pygments_lexer": "ipython3",
   "version": "3.8.12"
  },
  "toc": {
   "base_numbering": 1,
   "nav_menu": {},
   "number_sections": true,
   "sideBar": true,
   "skip_h1_title": false,
   "title_cell": "Table of Contents",
   "title_sidebar": "Contents",
   "toc_cell": false,
   "toc_position": {},
   "toc_section_display": true,
   "toc_window_display": false
  }
 },
 "nbformat": 4,
 "nbformat_minor": 5
}
