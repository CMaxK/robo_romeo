{
 "cells": [
  {
   "cell_type": "code",
   "execution_count": 88,
   "id": "87c0bf49",
   "metadata": {},
   "outputs": [],
   "source": [
    "import pickle\n",
    "import numpy as np"
   ]
  },
  {
   "cell_type": "markdown",
   "id": "b31a623f",
   "metadata": {},
   "source": [
    "# Datasets for LSTM input"
   ]
  },
  {
   "cell_type": "markdown",
   "id": "46445c24",
   "metadata": {},
   "source": [
    "## Load data for X1"
   ]
  },
  {
   "cell_type": "markdown",
   "id": "64cfa923",
   "metadata": {},
   "source": [
    "Import features file"
   ]
  },
  {
   "cell_type": "code",
   "execution_count": 89,
   "id": "7052996d",
   "metadata": {},
   "outputs": [],
   "source": [
    "features_file = '../extracted_features/extract_features_6k.pkl'"
   ]
  },
  {
   "cell_type": "markdown",
   "id": "8443bcea",
   "metadata": {},
   "source": [
    "Load from data from pickle file"
   ]
  },
  {
   "cell_type": "code",
   "execution_count": 90,
   "id": "efb33e06",
   "metadata": {},
   "outputs": [],
   "source": [
    "file = open(features_file, 'rb')\n",
    "features_dict = pickle.load(file)\n",
    "file.close()"
   ]
  },
  {
   "cell_type": "code",
   "execution_count": 112,
   "id": "696b4ba6",
   "metadata": {},
   "outputs": [
    {
     "data": {
      "text/plain": [
       "256"
      ]
     },
     "execution_count": 112,
     "metadata": {},
     "output_type": "execute_result"
    }
   ],
   "source": [
    "len(features_dict['2513260012_03d33305cf'][0])"
   ]
  },
  {
   "cell_type": "markdown",
   "id": "cf40111a",
   "metadata": {},
   "source": [
    "## Create X1_train in same sequence as X2 captions"
   ]
  },
  {
   "cell_type": "markdown",
   "id": "4cdd21e0",
   "metadata": {},
   "source": [
    "Import captions data"
   ]
  },
  {
   "cell_type": "code",
   "execution_count": 115,
   "id": "6cd6c419",
   "metadata": {},
   "outputs": [],
   "source": [
    "captions_file = '../raw_data/captions/cap2'"
   ]
  },
  {
   "cell_type": "code",
   "execution_count": 116,
   "id": "882868a6",
   "metadata": {},
   "outputs": [],
   "source": [
    "file = open(captions_file, 'rb')\n",
    "x2_captions = pickle.load(file)\n",
    "file.close()"
   ]
  },
  {
   "cell_type": "code",
   "execution_count": 117,
   "id": "462ad14e",
   "metadata": {},
   "outputs": [
    {
     "data": {
      "text/plain": [
       "'1000268201_693b08cb0e'"
      ]
     },
     "execution_count": 117,
     "metadata": {},
     "output_type": "execute_result"
    }
   ],
   "source": [
    "cap_img_list = x2_captions[0] # first column with list of repeated image id's\n",
    "cap_img_list[0]"
   ]
  },
  {
   "cell_type": "markdown",
   "id": "3ebb6cb5",
   "metadata": {},
   "source": [
    "Create X1_train"
   ]
  },
  {
   "cell_type": "code",
   "execution_count": 118,
   "id": "f0c3cddc",
   "metadata": {},
   "outputs": [
    {
     "data": {
      "text/plain": [
       "(306404, 256)"
      ]
     },
     "execution_count": 118,
     "metadata": {},
     "output_type": "execute_result"
    }
   ],
   "source": [
    "X1_train = []\n",
    "for cap_img in cap_img_list:\n",
    "    img_feature_matrix = features_dict[cap_img][0]\n",
    "    X1_train.append(img_feature_matrix)\n",
    "X1_train = np.array(X1_train)\n",
    "X1_train.shape"
   ]
  },
  {
   "cell_type": "markdown",
   "id": "28db7cf6",
   "metadata": {},
   "source": [
    "## Create X2_train"
   ]
  },
  {
   "cell_type": "code",
   "execution_count": 119,
   "id": "b104cc9f",
   "metadata": {},
   "outputs": [
    {
     "name": "stderr",
     "output_type": "stream",
     "text": [
      "/var/folders/tw/_zhlxthd7c31pn2_v_8xnv3m0000gn/T/ipykernel_23898/1287423446.py:1: VisibleDeprecationWarning: Creating an ndarray from ragged nested sequences (which is a list-or-tuple of lists-or-tuples-or ndarrays with different lengths or shapes) is deprecated. If you meant to do this, you must specify 'dtype=object' when creating the ndarray.\n",
      "  X2_train = np.array(x2_captions[1])\n"
     ]
    },
    {
     "data": {
      "text/plain": [
       "(306404,)"
      ]
     },
     "execution_count": 119,
     "metadata": {},
     "output_type": "execute_result"
    }
   ],
   "source": [
    "X2_train = np.array(x2_captions[1])\n",
    "X2_train.shape"
   ]
  },
  {
   "cell_type": "markdown",
   "id": "a08eb569",
   "metadata": {},
   "source": [
    "## Create y_train"
   ]
  },
  {
   "cell_type": "code",
   "execution_count": 120,
   "id": "5b4d7bb0",
   "metadata": {},
   "outputs": [
    {
     "name": "stderr",
     "output_type": "stream",
     "text": [
      "/var/folders/tw/_zhlxthd7c31pn2_v_8xnv3m0000gn/T/ipykernel_23898/3752022675.py:1: VisibleDeprecationWarning: Creating an ndarray from ragged nested sequences (which is a list-or-tuple of lists-or-tuples-or ndarrays with different lengths or shapes) is deprecated. If you meant to do this, you must specify 'dtype=object' when creating the ndarray.\n",
      "  y_train = np.array(x2_captions[2])\n"
     ]
    },
    {
     "data": {
      "text/plain": [
       "(306404,)"
      ]
     },
     "execution_count": 120,
     "metadata": {},
     "output_type": "execute_result"
    }
   ],
   "source": [
    "y_train = np.array(x2_captions[2])\n",
    "y_train.shape"
   ]
  },
  {
   "cell_type": "code",
   "execution_count": null,
   "id": "5bb7284d",
   "metadata": {},
   "outputs": [],
   "source": []
  }
 ],
 "metadata": {
  "kernelspec": {
   "display_name": "Python 3 (ipykernel)",
   "language": "python",
   "name": "python3"
  },
  "language_info": {
   "codemirror_mode": {
    "name": "ipython",
    "version": 3
   },
   "file_extension": ".py",
   "mimetype": "text/x-python",
   "name": "python",
   "nbconvert_exporter": "python",
   "pygments_lexer": "ipython3",
   "version": "3.8.12"
  },
  "toc": {
   "base_numbering": 1,
   "nav_menu": {},
   "number_sections": true,
   "sideBar": true,
   "skip_h1_title": false,
   "title_cell": "Table of Contents",
   "title_sidebar": "Contents",
   "toc_cell": false,
   "toc_position": {},
   "toc_section_display": true,
   "toc_window_display": false
  }
 },
 "nbformat": 4,
 "nbformat_minor": 5
}
