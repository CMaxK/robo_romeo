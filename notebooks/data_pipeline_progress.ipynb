{
 "cells": [
  {
   "cell_type": "code",
   "execution_count": 1,
   "id": "eead69be",
   "metadata": {},
   "outputs": [],
   "source": [
    "# Load the document file into memory\n",
    "def load_doc(filename):\n",
    "    # Open file to read\n",
    "    file = open(filename, 'r')\n",
    "    text = file.read()\n",
    "    file.close()\n",
    "    return text"
   ]
  },
  {
   "cell_type": "code",
   "execution_count": 2,
   "id": "3851b949",
   "metadata": {},
   "outputs": [
    {
     "name": "stdout",
     "output_type": "stream",
     "text": [
      "/Users/ChrisKarg/code/CMaxK/robo_romeo/notebooks\r\n"
     ]
    }
   ],
   "source": [
    "!pwd"
   ]
  },
  {
   "cell_type": "code",
   "execution_count": 5,
   "id": "5db76287",
   "metadata": {},
   "outputs": [],
   "source": [
    "dataframe = load_doc(\"../raw_data/descriptions.txt\")"
   ]
  },
  {
   "cell_type": "code",
   "execution_count": 6,
   "id": "917051de",
   "metadata": {},
   "outputs": [],
   "source": [
    "dataframe = dataframe.split('\\n')"
   ]
  },
  {
   "cell_type": "code",
   "execution_count": 7,
   "id": "2956c9b5",
   "metadata": {},
   "outputs": [
    {
     "data": {
      "text/plain": [
       "40460"
      ]
     },
     "execution_count": 7,
     "metadata": {},
     "output_type": "execute_result"
    }
   ],
   "source": [
    "len(dataframe)"
   ]
  },
  {
   "cell_type": "code",
   "execution_count": 8,
   "id": "be83389c",
   "metadata": {},
   "outputs": [
    {
     "data": {
      "text/plain": [
       "['1000268201_693b08cb0e a child in a pink dress is climbing up a set of stairs in an entry way',\n",
       " '1000268201_693b08cb0e a girl going into a wooden building']"
      ]
     },
     "execution_count": 8,
     "metadata": {},
     "output_type": "execute_result"
    }
   ],
   "source": [
    "dataframe[:2]"
   ]
  },
  {
   "cell_type": "code",
   "execution_count": 28,
   "id": "b41e20bd",
   "metadata": {},
   "outputs": [],
   "source": [
    "l_all =[]\n",
    "for n in dataframe:\n",
    "    line = {\"id\": n.split(\" \")[0],\n",
    "        'value': \"startsequence \" + \" \".join(n.split(\" \")[1:]) + \" endsequence\"}\n",
    "    l_all.append(line)\n",
    "    "
   ]
  },
  {
   "cell_type": "code",
   "execution_count": 29,
   "id": "37333e78",
   "metadata": {},
   "outputs": [],
   "source": [
    "import pandas as pd\n",
    "df_all = pd.DataFrame(l_all)"
   ]
  },
  {
   "cell_type": "code",
   "execution_count": 30,
   "id": "b619b696",
   "metadata": {},
   "outputs": [],
   "source": [
    "from tensorflow.keras.preprocessing.text import Tokenizer"
   ]
  },
  {
   "cell_type": "code",
   "execution_count": 31,
   "id": "0c56cc59",
   "metadata": {},
   "outputs": [],
   "source": [
    "t = Tokenizer()\n",
    "t.fit_on_texts(df_all.value)"
   ]
  },
  {
   "cell_type": "code",
   "execution_count": 32,
   "id": "9b5420b9",
   "metadata": {},
   "outputs": [],
   "source": [
    "df_all[\"value_tokenized\"] = t.texts_to_sequences(df_all.value)"
   ]
  },
  {
   "cell_type": "code",
   "execution_count": 33,
   "id": "3a50811f",
   "metadata": {},
   "outputs": [
    {
     "data": {
      "text/html": [
       "<div>\n",
       "<style scoped>\n",
       "    .dataframe tbody tr th:only-of-type {\n",
       "        vertical-align: middle;\n",
       "    }\n",
       "\n",
       "    .dataframe tbody tr th {\n",
       "        vertical-align: top;\n",
       "    }\n",
       "\n",
       "    .dataframe thead th {\n",
       "        text-align: right;\n",
       "    }\n",
       "</style>\n",
       "<table border=\"1\" class=\"dataframe\">\n",
       "  <thead>\n",
       "    <tr style=\"text-align: right;\">\n",
       "      <th></th>\n",
       "      <th>id</th>\n",
       "      <th>value</th>\n",
       "      <th>value_tokenized</th>\n",
       "    </tr>\n",
       "  </thead>\n",
       "  <tbody>\n",
       "    <tr>\n",
       "      <th>0</th>\n",
       "      <td>1000268201_693b08cb0e</td>\n",
       "      <td>startsequence a child in a pink dress is climb...</td>\n",
       "      <td>[2, 1, 42, 4, 1, 90, 170, 7, 119, 53, 1, 396, ...</td>\n",
       "    </tr>\n",
       "    <tr>\n",
       "      <th>1</th>\n",
       "      <td>1000268201_693b08cb0e</td>\n",
       "      <td>startsequence a girl going into a wooden build...</td>\n",
       "      <td>[2, 1, 19, 314, 64, 1, 194, 117, 3]</td>\n",
       "    </tr>\n",
       "    <tr>\n",
       "      <th>2</th>\n",
       "      <td>1000268201_693b08cb0e</td>\n",
       "      <td>startsequence a little girl climbing into a wo...</td>\n",
       "      <td>[2, 1, 40, 19, 119, 64, 1, 194, 2425, 3]</td>\n",
       "    </tr>\n",
       "    <tr>\n",
       "      <th>3</th>\n",
       "      <td>1000268201_693b08cb0e</td>\n",
       "      <td>startsequence a little girl climbing the stair...</td>\n",
       "      <td>[2, 1, 40, 19, 119, 5, 393, 20, 60, 2425, 3]</td>\n",
       "    </tr>\n",
       "    <tr>\n",
       "      <th>4</th>\n",
       "      <td>1000268201_693b08cb0e</td>\n",
       "      <td>startsequence a little girl in a pink dress go...</td>\n",
       "      <td>[2, 1, 40, 19, 4, 1, 90, 170, 314, 64, 1, 194,...</td>\n",
       "    </tr>\n",
       "    <tr>\n",
       "      <th>...</th>\n",
       "      <td>...</td>\n",
       "      <td>...</td>\n",
       "      <td>...</td>\n",
       "    </tr>\n",
       "    <tr>\n",
       "      <th>40455</th>\n",
       "      <td>997722733_0cb5439472</td>\n",
       "      <td>startsequence a man in a pink shirt climbs a r...</td>\n",
       "      <td>[2, 1, 11, 4, 1, 90, 37, 252, 1, 84, 123, 3]</td>\n",
       "    </tr>\n",
       "    <tr>\n",
       "      <th>40456</th>\n",
       "      <td>997722733_0cb5439472</td>\n",
       "      <td>startsequence a man is rock climbing high in t...</td>\n",
       "      <td>[2, 1, 11, 7, 84, 119, 196, 4, 5, 65, 3]</td>\n",
       "    </tr>\n",
       "    <tr>\n",
       "      <th>40457</th>\n",
       "      <td>997722733_0cb5439472</td>\n",
       "      <td>startsequence a person in a red shirt climbing...</td>\n",
       "      <td>[2, 1, 43, 4, 1, 25, 37, 119, 53, 1, 84, 123, ...</td>\n",
       "    </tr>\n",
       "    <tr>\n",
       "      <th>40458</th>\n",
       "      <td>997722733_0cb5439472</td>\n",
       "      <td>startsequence a rock climber in a red shirt en...</td>\n",
       "      <td>[2, 1, 84, 358, 4, 1, 25, 37, 3]</td>\n",
       "    </tr>\n",
       "    <tr>\n",
       "      <th>40459</th>\n",
       "      <td>997722733_0cb5439472</td>\n",
       "      <td>startsequence a rock climber practices on a ro...</td>\n",
       "      <td>[2, 1, 84, 358, 1851, 6, 1, 84, 119, 109, 3]</td>\n",
       "    </tr>\n",
       "  </tbody>\n",
       "</table>\n",
       "<p>40460 rows × 3 columns</p>\n",
       "</div>"
      ],
      "text/plain": [
       "                          id  \\\n",
       "0      1000268201_693b08cb0e   \n",
       "1      1000268201_693b08cb0e   \n",
       "2      1000268201_693b08cb0e   \n",
       "3      1000268201_693b08cb0e   \n",
       "4      1000268201_693b08cb0e   \n",
       "...                      ...   \n",
       "40455   997722733_0cb5439472   \n",
       "40456   997722733_0cb5439472   \n",
       "40457   997722733_0cb5439472   \n",
       "40458   997722733_0cb5439472   \n",
       "40459   997722733_0cb5439472   \n",
       "\n",
       "                                                   value  \\\n",
       "0      startsequence a child in a pink dress is climb...   \n",
       "1      startsequence a girl going into a wooden build...   \n",
       "2      startsequence a little girl climbing into a wo...   \n",
       "3      startsequence a little girl climbing the stair...   \n",
       "4      startsequence a little girl in a pink dress go...   \n",
       "...                                                  ...   \n",
       "40455  startsequence a man in a pink shirt climbs a r...   \n",
       "40456  startsequence a man is rock climbing high in t...   \n",
       "40457  startsequence a person in a red shirt climbing...   \n",
       "40458  startsequence a rock climber in a red shirt en...   \n",
       "40459  startsequence a rock climber practices on a ro...   \n",
       "\n",
       "                                         value_tokenized  \n",
       "0      [2, 1, 42, 4, 1, 90, 170, 7, 119, 53, 1, 396, ...  \n",
       "1                    [2, 1, 19, 314, 64, 1, 194, 117, 3]  \n",
       "2               [2, 1, 40, 19, 119, 64, 1, 194, 2425, 3]  \n",
       "3           [2, 1, 40, 19, 119, 5, 393, 20, 60, 2425, 3]  \n",
       "4      [2, 1, 40, 19, 4, 1, 90, 170, 314, 64, 1, 194,...  \n",
       "...                                                  ...  \n",
       "40455       [2, 1, 11, 4, 1, 90, 37, 252, 1, 84, 123, 3]  \n",
       "40456           [2, 1, 11, 7, 84, 119, 196, 4, 5, 65, 3]  \n",
       "40457  [2, 1, 43, 4, 1, 25, 37, 119, 53, 1, 84, 123, ...  \n",
       "40458                   [2, 1, 84, 358, 4, 1, 25, 37, 3]  \n",
       "40459       [2, 1, 84, 358, 1851, 6, 1, 84, 119, 109, 3]  \n",
       "\n",
       "[40460 rows x 3 columns]"
      ]
     },
     "execution_count": 33,
     "metadata": {},
     "output_type": "execute_result"
    }
   ],
   "source": [
    "df_all"
   ]
  },
  {
   "cell_type": "code",
   "execution_count": 53,
   "id": "2f156081",
   "metadata": {},
   "outputs": [],
   "source": [
    "class DataPipeline:\n",
    "    \n",
    "    def __init__(self,df,batch_size, vocab_size):\n",
    "        self.df = df\n",
    "        self.batch_size = batch_size\n",
    "        self.vocab_size = vocab_size\n",
    "        self.prepare_dataset()\n",
    "\n",
    "    def prepare_dataset(self):\n",
    "\n",
    "\n",
    "        # for loop to append X1,X2,y\n",
    "        X1,X2,y = [],[],[]\n",
    "\n",
    "        for idx, data in self.df.iterrows():\n",
    "\n",
    "            seq = data[\"value_tokenized\"]\n",
    "            for i in range(1,len(seq)):\n",
    "                X1.append(data[\"id\"])\n",
    "                X2.append(seq[0:i])\n",
    "                y.append(seq[i])\n",
    "\n",
    "        self.X1,self.X2,self.y = X1,X2,y\n",
    "    \n",
    "    def encode_images(self):\n",
    "    \n",
    "# encode images with CNN\n",
    "# function to categorical\n",
    "    \n",
    "    \n",
    "    def __getitem__(self,idx):\n",
    "        \n",
    "        imgs_to_load = self.X1[idx * self.batch_size : (idx +1) * self.batch_size]\n",
    "        x1_batch = self.load_images_encoded(imgs_to_load)\n",
    "        \n",
    "        seq_to_pad = self.X2[idx * self.batch_size : (idx +1) * self.batch_size]]\n",
    "        x2_batch = self.seq_to_padded(sea_to_pad)\n",
    "        \n",
    "        y_to_cat = self.y[idx * self.batch_size : (idx +1) * self.batch_size]\n",
    "        y_batch = self.to_cat(y_to_cat)\n",
    "        \n",
    "        return ([x1_batch,\n",
    "                x2_batch],\n",
    "                y_batch)\n",
    "                \n",
    "    def __len__(self):\n",
    "        return len(self.X1)// self.batch_size"
   ]
  },
  {
   "cell_type": "code",
   "execution_count": 54,
   "id": "a3306513",
   "metadata": {},
   "outputs": [],
   "source": [
    "dl = DataPipeline(df_all,16)"
   ]
  },
  {
   "cell_type": "code",
   "execution_count": 57,
   "id": "79c2bf68",
   "metadata": {},
   "outputs": [],
   "source": [
    "dl.batch_size = 32"
   ]
  },
  {
   "cell_type": "code",
   "execution_count": 58,
   "id": "104310f3",
   "metadata": {},
   "outputs": [
    {
     "data": {
      "text/plain": [
       "14900"
      ]
     },
     "execution_count": 58,
     "metadata": {},
     "output_type": "execute_result"
    }
   ],
   "source": [
    "len(dl)"
   ]
  },
  {
   "cell_type": "code",
   "execution_count": null,
   "id": "169906ad",
   "metadata": {},
   "outputs": [],
   "source": []
  }
 ],
 "metadata": {
  "kernelspec": {
   "display_name": "Python 3 (ipykernel)",
   "language": "python",
   "name": "python3"
  },
  "language_info": {
   "codemirror_mode": {
    "name": "ipython",
    "version": 3
   },
   "file_extension": ".py",
   "mimetype": "text/x-python",
   "name": "python",
   "nbconvert_exporter": "python",
   "pygments_lexer": "ipython3",
   "version": "3.8.13"
  },
  "toc": {
   "base_numbering": 1,
   "nav_menu": {},
   "number_sections": true,
   "sideBar": true,
   "skip_h1_title": false,
   "title_cell": "Table of Contents",
   "title_sidebar": "Contents",
   "toc_cell": false,
   "toc_position": {},
   "toc_section_display": true,
   "toc_window_display": false
  }
 },
 "nbformat": 4,
 "nbformat_minor": 5
}
