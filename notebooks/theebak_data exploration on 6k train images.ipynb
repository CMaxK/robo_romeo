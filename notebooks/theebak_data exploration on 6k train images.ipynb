{
 "cells": [
  {
   "cell_type": "code",
   "execution_count": 5,
<<<<<<< HEAD
   "id": "b1b45aa8",
=======
   "id": "8bf86d22",
>>>>>>> 3429852eb1e0c76a4214cf5a75b70420b228113f
   "metadata": {},
   "outputs": [],
   "source": [
    "import numpy as np"
   ]
  },
  {
   "cell_type": "code",
   "execution_count": 6,
<<<<<<< HEAD
   "id": "53000314",
=======
   "id": "71d87473",
>>>>>>> 3429852eb1e0c76a4214cf5a75b70420b228113f
   "metadata": {},
   "outputs": [],
   "source": [
    "img_list_file = '../raw_data/text/Flickr_8k.trainImages.txt'\n",
    "img_list = np.loadtxt(img_list_file, dtype=str)"
   ]
  },
  {
   "cell_type": "code",
   "execution_count": 8,
<<<<<<< HEAD
   "id": "9eccf39a",
=======
   "id": "6bc19e29",
>>>>>>> 3429852eb1e0c76a4214cf5a75b70420b228113f
   "metadata": {},
   "outputs": [
    {
     "data": {
      "text/plain": [
       "6000"
      ]
     },
     "execution_count": 8,
     "metadata": {},
     "output_type": "execute_result"
    }
   ],
   "source": [
    "len(img_list)"
   ]
  },
  {
   "cell_type": "code",
   "execution_count": 9,
<<<<<<< HEAD
   "id": "c881ed63",
=======
   "id": "6a493375",
>>>>>>> 3429852eb1e0c76a4214cf5a75b70420b228113f
   "metadata": {},
   "outputs": [],
   "source": [
    "img_folder_path = '../raw_data/images/'"
   ]
  },
  {
   "cell_type": "code",
   "execution_count": null,
<<<<<<< HEAD
   "id": "0c5a30f7",
=======
   "id": "17c28e9e",
>>>>>>> 3429852eb1e0c76a4214cf5a75b70420b228113f
   "metadata": {},
   "outputs": [],
   "source": []
  }
 ],
 "metadata": {
  "kernelspec": {
   "display_name": "Python 3 (ipykernel)",
   "language": "python",
   "name": "python3"
  },
  "language_info": {
   "codemirror_mode": {
    "name": "ipython",
    "version": 3
   },
   "file_extension": ".py",
   "mimetype": "text/x-python",
   "name": "python",
   "nbconvert_exporter": "python",
   "pygments_lexer": "ipython3",
   "version": "3.8.12"
  },
  "toc": {
   "base_numbering": 1,
   "nav_menu": {},
   "number_sections": true,
   "sideBar": true,
   "skip_h1_title": false,
   "title_cell": "Table of Contents",
   "title_sidebar": "Contents",
   "toc_cell": false,
   "toc_position": {},
   "toc_section_display": true,
   "toc_window_display": false
  }
 },
 "nbformat": 4,
 "nbformat_minor": 5
}
