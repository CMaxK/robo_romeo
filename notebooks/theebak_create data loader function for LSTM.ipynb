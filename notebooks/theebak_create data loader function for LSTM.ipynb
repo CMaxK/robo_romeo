{
 "cells": [
  {
   "cell_type": "code",
   "execution_count": 13,
   "id": "87c0bf49",
   "metadata": {},
   "outputs": [],
   "source": [
    "import pickle\n",
    "import numpy as np"
   ]
  },
  {
   "cell_type": "markdown",
   "id": "b31a623f",
   "metadata": {},
   "source": [
    "# Data loader function for LSTM input"
   ]
  },
  {
   "cell_type": "markdown",
   "id": "46445c24",
   "metadata": {},
   "source": [
    "## Load data for X1 from CNN model"
   ]
  },
  {
   "cell_type": "markdown",
   "id": "64cfa923",
   "metadata": {},
   "source": [
    "Import features file"
   ]
  },
  {
   "cell_type": "code",
   "execution_count": 8,
   "id": "7052996d",
   "metadata": {},
   "outputs": [],
   "source": [
    "features_file = '../extracted_features/extract_features_6k.pkl'"
   ]
  },
  {
   "cell_type": "markdown",
   "id": "8443bcea",
   "metadata": {},
   "source": [
    "Load from data from pickle file"
   ]
  },
  {
   "cell_type": "code",
   "execution_count": 9,
   "id": "efb33e06",
   "metadata": {},
   "outputs": [
    {
     "ename": "EOFError",
     "evalue": "Ran out of input",
     "output_type": "error",
     "traceback": [
      "\u001b[0;31m---------------------------------------------------------------------------\u001b[0m",
      "\u001b[0;31mEOFError\u001b[0m                                  Traceback (most recent call last)",
      "Input \u001b[0;32mIn [9]\u001b[0m, in \u001b[0;36m<cell line: 2>\u001b[0;34m()\u001b[0m\n\u001b[1;32m      1\u001b[0m file \u001b[38;5;241m=\u001b[39m \u001b[38;5;28mopen\u001b[39m(features_file, \u001b[38;5;124m'\u001b[39m\u001b[38;5;124mrb\u001b[39m\u001b[38;5;124m'\u001b[39m)\n\u001b[0;32m----> 2\u001b[0m features_dict \u001b[38;5;241m=\u001b[39m \u001b[43mpickle\u001b[49m\u001b[38;5;241;43m.\u001b[39;49m\u001b[43mload\u001b[49m\u001b[43m(\u001b[49m\u001b[43mfile\u001b[49m\u001b[43m)\u001b[49m\n\u001b[1;32m      3\u001b[0m file\u001b[38;5;241m.\u001b[39mclose()\n",
      "\u001b[0;31mEOFError\u001b[0m: Ran out of input"
     ]
    }
   ],
   "source": [
    "file = open(features_file, 'rb')\n",
    "features_dict = pickle.load(file)\n",
    "file.close()"
   ]
  },
  {
   "cell_type": "markdown",
   "id": "28db7cf6",
   "metadata": {},
   "source": [
    "## Create X2 array"
   ]
  },
  {
   "cell_type": "markdown",
   "id": "4cdd21e0",
   "metadata": {},
   "source": [
    "Import captions data"
   ]
  },
  {
   "cell_type": "code",
   "execution_count": 60,
   "id": "6cd6c419",
   "metadata": {},
   "outputs": [],
   "source": [
    "captions_file = '../raw_data/captions/cap'"
   ]
  },
  {
   "cell_type": "code",
   "execution_count": 61,
   "id": "882868a6",
   "metadata": {},
   "outputs": [],
   "source": [
    "file = open(captions_file, 'rb')\n",
    "x2_captions = pickle.load(file)\n",
    "file.close()"
   ]
  },
  {
   "cell_type": "code",
   "execution_count": 79,
   "id": "b3455ecf",
   "metadata": {},
   "outputs": [
    {
     "data": {
      "text/plain": [
       "413395"
      ]
     },
     "execution_count": 79,
     "metadata": {},
     "output_type": "execute_result"
    }
   ],
   "source": [
    "len(x2_captions[0])"
   ]
  },
  {
   "cell_type": "code",
   "execution_count": 97,
   "id": "b104cc9f",
   "metadata": {},
   "outputs": [
    {
     "data": {
      "text/plain": [
       "(413395,)"
      ]
     },
     "execution_count": 97,
     "metadata": {},
     "output_type": "execute_result"
    }
   ],
   "source": [
    "X2_train_np = np.array(x2_captions[0])\n",
    "X2_train_np.shape"
   ]
  },
  {
   "cell_type": "code",
   "execution_count": 78,
   "id": "fd9a5bdc",
   "metadata": {},
   "outputs": [],
   "source": [
    "X2_train = x2_captions[1]"
   ]
  },
  {
   "cell_type": "code",
   "execution_count": 81,
   "id": "8f42683d",
   "metadata": {},
   "outputs": [
    {
     "data": {
      "text/plain": [
       "'1000268201_693b08cb0e'"
      ]
     },
     "execution_count": 81,
     "metadata": {},
     "output_type": "execute_result"
    }
   ],
   "source": [
    "cap_img_list = x2_captions[0] # first column with list of repeated image id's\n",
    "cap_img_list[0]"
   ]
  },
  {
   "cell_type": "code",
   "execution_count": 98,
   "id": "5b4d7bb0",
   "metadata": {},
   "outputs": [
    {
     "data": {
      "text/plain": [
       "(413395, 1)"
      ]
     },
     "execution_count": 98,
     "metadata": {},
     "output_type": "execute_result"
    }
   ],
   "source": [
    "y_train = np.array(x2_captions[2])\n",
    "y_train.shape"
   ]
  },
  {
   "cell_type": "markdown",
   "id": "cf40111a",
   "metadata": {},
   "source": [
    "## Loop to create X1_train"
   ]
  },
  {
   "cell_type": "code",
   "execution_count": 11,
   "id": "3b7aa884",
   "metadata": {},
   "outputs": [],
   "source": [
    "feature_folder_path = '../extracted_features/file_per_image/'"
   ]
  },
  {
   "cell_type": "code",
   "execution_count": null,
   "id": "f0c3cddc",
   "metadata": {},
   "outputs": [],
   "source": [
    "# Create X1 array\n",
    "X1_train = np.empty((8,8,1280))\n",
    "for img_obs in cap_img_list:\n",
    "    img_feature_file = '../extracted_features/file_per_image/'+img_obs+'.pkl'\n",
    "    file = open(img_feature_file, 'rb')\n",
    "    img_feature_matrix = pickle.load(file)\n",
    "    file.close()\n",
    "    X1_train = np.concatenate((X1_train, img_feature_matrix), axis=0)"
   ]
  },
  {
   "cell_type": "code",
   "execution_count": 56,
   "id": "212af3af",
   "metadata": {},
   "outputs": [],
   "source": [
    "X1_train = []\n",
    "img_obs = '667626_18933d713e'\n",
    "img_feature_file = '../extracted_features/file_per_image/'+img_obs+'.pkl'"
   ]
  },
  {
   "cell_type": "code",
   "execution_count": 57,
   "id": "0f73101b",
   "metadata": {},
   "outputs": [],
   "source": [
    "file = open(img_feature_file, 'rb')\n",
    "img_feature_matrix = pickle.load(file)\n",
    "file.close()"
   ]
  },
  {
   "cell_type": "code",
   "execution_count": 88,
   "id": "8087f2a6",
   "metadata": {},
   "outputs": [
    {
     "data": {
      "text/plain": [
       "(1, 8, 8, 1280)"
      ]
     },
     "execution_count": 88,
     "metadata": {},
     "output_type": "execute_result"
    }
   ],
   "source": [
    "img_feature_matrix.shape"
   ]
  },
  {
   "cell_type": "code",
   "execution_count": 85,
   "id": "bf873747",
   "metadata": {},
   "outputs": [],
   "source": [
    "X1_train = np.empty((8,8,1280))"
   ]
  },
  {
   "cell_type": "code",
   "execution_count": 87,
   "id": "6935a417",
   "metadata": {},
   "outputs": [
    {
     "ename": "ValueError",
     "evalue": "all the input arrays must have same number of dimensions, but the array at index 0 has 3 dimension(s) and the array at index 1 has 4 dimension(s)",
     "output_type": "error",
     "traceback": [
      "\u001b[0;31m---------------------------------------------------------------------------\u001b[0m",
      "\u001b[0;31mValueError\u001b[0m                                Traceback (most recent call last)",
      "Input \u001b[0;32mIn [87]\u001b[0m, in \u001b[0;36m<cell line: 1>\u001b[0;34m()\u001b[0m\n\u001b[0;32m----> 1\u001b[0m X1_train \u001b[38;5;241m=\u001b[39m \u001b[43mnp\u001b[49m\u001b[38;5;241;43m.\u001b[39;49m\u001b[43mconcatenate\u001b[49m\u001b[43m(\u001b[49m\u001b[43m(\u001b[49m\u001b[43mX1_train\u001b[49m\u001b[43m,\u001b[49m\u001b[43m \u001b[49m\u001b[43mimg_feature_matrix\u001b[49m\u001b[43m)\u001b[49m\u001b[43m,\u001b[49m\u001b[43m \u001b[49m\u001b[43maxis\u001b[49m\u001b[38;5;241;43m=\u001b[39;49m\u001b[38;5;241;43m0\u001b[39;49m\u001b[43m)\u001b[49m\n",
      "File \u001b[0;32m<__array_function__ internals>:180\u001b[0m, in \u001b[0;36mconcatenate\u001b[0;34m(*args, **kwargs)\u001b[0m\n",
      "\u001b[0;31mValueError\u001b[0m: all the input arrays must have same number of dimensions, but the array at index 0 has 3 dimension(s) and the array at index 1 has 4 dimension(s)"
     ]
    }
   ],
   "source": [
    "X1_train = np.concatenate((X1_train, img_feature_matrix), axis=0)"
   ]
  },
  {
   "cell_type": "code",
   "execution_count": 84,
   "id": "9f9fc321",
   "metadata": {},
   "outputs": [
    {
     "data": {
      "text/plain": [
       "(2, 8, 8, 1280)"
      ]
     },
     "execution_count": 84,
     "metadata": {},
     "output_type": "execute_result"
    }
   ],
   "source": [
    "X1_train.shape"
   ]
  },
  {
   "cell_type": "markdown",
   "id": "a82505e6",
   "metadata": {},
   "source": [
    "## y to_categorical"
   ]
  },
  {
   "cell_type": "code",
   "execution_count": null,
   "id": "fb01b7ae",
   "metadata": {},
   "outputs": [],
   "source": []
  },
  {
   "cell_type": "code",
   "execution_count": null,
   "id": "58caf4a5",
   "metadata": {},
   "outputs": [],
   "source": []
  }
 ],
 "metadata": {
  "kernelspec": {
   "display_name": "Python 3 (ipykernel)",
   "language": "python",
   "name": "python3"
  },
  "language_info": {
   "codemirror_mode": {
    "name": "ipython",
    "version": 3
   },
   "file_extension": ".py",
   "mimetype": "text/x-python",
   "name": "python",
   "nbconvert_exporter": "python",
   "pygments_lexer": "ipython3",
   "version": "3.8.12"
  },
  "toc": {
   "base_numbering": 1,
   "nav_menu": {},
   "number_sections": true,
   "sideBar": true,
   "skip_h1_title": false,
   "title_cell": "Table of Contents",
   "title_sidebar": "Contents",
   "toc_cell": false,
   "toc_position": {},
   "toc_section_display": true,
   "toc_window_display": false
  }
 },
 "nbformat": 4,
 "nbformat_minor": 5
}
